{
 "cells": [
  {
   "cell_type": "code",
   "execution_count": null,
   "metadata": {},
   "outputs": [],
   "source": [
    "# how to take the transpose of a dataframe in pandas\n",
    "#https://sparkbyexamples.com/pandas/pandas-transpose-dataframe/#:~:text=Syntax%20of%20transpose()&text=If%20copy%20is%20set%20to,swap%20both%20rows%20and%20columns.\n",
    "import pandas as pd"
   ]
  },
  {
   "cell_type": "code",
   "execution_count": null,
   "metadata": {},
   "outputs": [],
   "source": [
    "\n",
    "\n",
    "# # Read the CSV file\n",
    "# file_path = \"C:/Users/adity/OneDrive/Desktop/Sixth Semester/CE6018 Seismic Data Analytics/Program/Week7/drive-download-20240314T111802Z-001 copy/freq_z.csv\"\n",
    "# transpose = pd.read_csv(file_path)\n",
    "\n",
    "# # Extract the file name from the file path\n",
    "# file_name = file_path.split(\"/\")[-1]  # Split the file path by '/' and get the last part\n",
    "# print(\"File Name:\", file_name)\n",
    "\n",
    "# # Transpose the DataFrame\n",
    "# transpose = transpose.transpose()\n",
    "\n",
    "# # Save the transposed DataFrame to a CSV file\n",
    "# transpose.to_csv(\"transpose.csv\")  # Set index=False to avoid saving row numbers as a column\n",
    "\n"
   ]
  },
  {
   "cell_type": "code",
   "execution_count": null,
   "metadata": {},
   "outputs": [],
   "source": [
    "freq_data= pd.read_csv(\"C:/Users/adity/OneDrive/Desktop/Sixth Semester/CE6018 Seismic Data Analytics/Program/Week7/transpose.csv\")\n"
   ]
  },
  {
   "cell_type": "code",
   "execution_count": null,
   "metadata": {},
   "outputs": [],
   "source": [
    "\n",
    "import re\n",
    "\n",
    "# Convert the 'RSN' column to strings and extract numbers\n",
    "numbers_only = [int(re.search(r'\\d+', str(s)).group()) for s in freq_data[\"RSN\"] if re.search(r'\\d+', str(s))]\n",
    "\n",
    "# Replace 'RSN' column with the extracted numbers\n",
    "freq_data[\"RSN\"] = numbers_only\n",
    "\n",
    "## Display the modified DataFrame\n",
    "# freq_data\n"
   ]
  },
  {
   "cell_type": "code",
   "execution_count": null,
   "metadata": {},
   "outputs": [],
   "source": [
    "# Choose the row to sort by (e.g., 'RSN')\n",
    "row_to_sort_by = 'RSN'\n",
    "\n",
    "# Sort the DataFrame based on the values in the selected row\n",
    "sorted_freq = freq_data.sort_values(by=row_to_sort_by)\n",
    "\n",
    "# Display the sorted DataFrame\n",
    "sorted_freq"
   ]
  },
  {
   "cell_type": "code",
   "execution_count": null,
   "metadata": {},
   "outputs": [],
   "source": [
    "flat_data= pd.read_csv(\"C:/Users/adity/OneDrive/Desktop/Sixth Semester/CE6018 Seismic Data Analytics/Program/Week6  Nerual Network/ngawest.csv\",low_memory=False)\n",
    "flat_data"
   ]
  },
  {
   "cell_type": "code",
   "execution_count": null,
   "metadata": {},
   "outputs": [],
   "source": [
    "# Getting Speceific Required rows from the Flat file\n",
    "\n",
    "# req_col = [\"Earthquake Magnitude\", \"Hypocenter Depth (km)\", \"Joyner-Boore Dist. (km)\", \"Vs30 (m/s) selected for analysis\", \"PGA (g)\", \"PGV (cm/sec)\",\n",
    "        #    \"T0.010S\", \"T0.020S\", \"T0.022S\", \"T0.025S\", \"T0.029S\", \"T0.030S\", \"T0.032S\", \"T0.035S\", \"T0.036S\", \"T0.040S\", \"T0.042S\", \"T0.044S\", \"T0.045S\", \"T0.046S\", \"T0.048S\", \"T0.050S\", \"T0.055S\", \"T0.060S\", \"T0.065S\", \"T0.067S\", \"T0.070S\", \"T0.075S\", \"T0.080S\", \"T0.085S\", \"T0.090S\", \"T0.095S\", \"T0.100S\", \"T0.110S\", \"T0.120S\", \"T0.130S\", \"T0.133S\", \"T0.140S\", \"T0.150S\", \"T0.160S\", \"T0.170S\", \"T0.180S\", \"T0.190S\", \"T0.200S\", \"T0.220S\", \"T0.240S\", \"T0.250S\", \"T0.260S\", \"T0.280S\", \"T0.290S\", \"T0.300S\", \"T0.320S\", \"T0.340S\", \"T0.350S\", \"T0.360S\", \"T0.380S\", \"T0.400S\",\n",
    "        #    \"T0.420S\", \"T0.440S\", \"T0.450S\", \"T0.460S\", \"T0.480S\", \"T0.500S\", \"T0.550S\", \"T0.600S\", \"T0.650S\", \"T0.667S\", \"T0.700S\", \"T0.750S\", \"T0.800S\", \"T0.850S\", \"T0.900S\", \"T0.950S\", \"T1.000S\", \"T1.100S\", \"T1.200S\", \"T1.300S\", \"T1.400S\", \"T1.500S\", \"T1.600S\", \"T1.700S\", \"T1.800S\", \"T1.900S\", \"T2.000S\", \"T2.200S\", \"T2.400S\", \"T2.500S\", \"T2.600S\", \"T2.800S\", \"T3.000S\", \"T3.200S\", \"T3.400S\", \"T3.500S\", \"T3.600S\", \"T3.800S\", \"T4.000S\", \"T4.200S\", \"T4.400S\", \"T4.600S\", \"T4.800S\", \"T5.000S\", \"T5.500S\", \"T6.000S\", \"T6.500S\", \"T7.000S\", \"T7.500S\", \"T8.000S\", \"T8.500S\", \"T9.000S\", \"T9.500S\", \"T10.000S\", \"T11.000S\", \"T12.000S\", \"T13.000S\", \"T14.000S\", \"T15.000S\", \"T20.000S\",]\n",
    "\n",
    "req_col=[\"Earthquake Magnitude\", \"Hypocenter Depth (km)\", \"Joyner-Boore Dist. (km)\", \"Vs30 (m/s) selected for analysis\"]\n",
    "req_data = flat_data.loc[[i for i in sorted_freq[\"RSN\"]],req_col ]\n",
    "\n",
    "\n",
    "\n",
    "# Resetting the index\n",
    "\n",
    "# req_data.reset_index(inplace=True, drop=True)\n",
    "req_data.reset_index(drop=True, inplace=True)\n",
    "\n",
    "req_data"
   ]
  },
  {
   "cell_type": "code",
   "execution_count": null,
   "metadata": {},
   "outputs": [],
   "source": [
    "#Resetting the indexes and merging bothe files to create the required data file\n",
    "sorted_freq.reset_index(inplace=True, drop=True)\n",
    "sorted_freq"
   ]
  },
  {
   "cell_type": "code",
   "execution_count": null,
   "metadata": {},
   "outputs": [],
   "source": [
    "req_resampledFreq=pd.concat([sorted_freq,req_data],axis=1,join=\"inner\")\n",
    "req_resampledFreq.to_csv(\"C:/Users/adity/OneDrive/Desktop/Sixth Semester/CE6018 Seismic Data Analytics/Program/Week7/ReqResampleData/req_\"+file_name)"
   ]
  }
 ],
 "metadata": {
  "kernelspec": {
   "display_name": "Python 3",
   "language": "python",
   "name": "python3"
  },
  "language_info": {
   "codemirror_mode": {
    "name": "ipython",
    "version": 3
   },
   "file_extension": ".py",
   "mimetype": "text/x-python",
   "name": "python",
   "nbconvert_exporter": "python",
   "pygments_lexer": "ipython3",
   "version": "3.11.4"
  }
 },
 "nbformat": 4,
 "nbformat_minor": 2
}
