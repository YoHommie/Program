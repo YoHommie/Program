{
 "cells": [
  {
   "cell_type": "code",
   "execution_count": null,
   "metadata": {},
   "outputs": [],
   "source": [
    "# check\n",
    "# Read the CSV file\n",
    "\n",
    "from sklearn.preprocessing import MinMaxScaler\n",
    "from sklearn.preprocessing import StandardScaler\n",
    "from sklearn.model_selection import train_test_split\n",
    "import pandas as pd\n",
    "import numpy as np\n",
    "\n",
    "\n",
    "import matplotlib.pyplot as plt\n",
    "\n",
    "\n",
    "# root_folder =\"C:/Users/adity/OneDrive/Desktop/Sixth Semester/CE6018 Seismic Data Analytics/\"\n",
    "root_folder =\"C:/Users/user/Desktop/Adi/GMM/\"\n",
    "\n",
    "\n",
    "folder_address=root_folder+\"Program/Week8/Data folder/\"\n",
    "freqData=pd.read_csv(folder_address+\"Time_Envelop.csv\")\n",
    "earthquakeData=pd.read_csv(folder_address+\"EqID.csv\")\n",
    "SiteData=pd.read_csv(folder_address+\"SiteID.csv\")\n",
    "RSNData=pd.read_csv(folder_address+\"RSN.csv\")\n",
    "\n",
    "\n",
    "freqData"
   ]
  },
  {
   "cell_type": "code",
   "execution_count": null,
   "metadata": {},
   "outputs": [],
   "source": [
    "drop_index_list = list(freqData[freqData[\"Rjb\"] > 300].index)\n",
    "drop_index_list"
   ]
  },
  {
   "cell_type": "code",
   "execution_count": null,
   "metadata": {},
   "outputs": [],
   "source": [
    "#dropping rows which  any column contains value between -34.5388 and -34.5386\n",
    "for i in freqData.index:\n",
    "    if((freqData.loc[i] > -34.5388) & (freqData.loc[i] < -34.5386)).any():  # for Time_env\n",
    "        freqData = freqData.drop(i)\n",
    "        earthquakeData = earthquakeData.drop(i)\n",
    "        SiteData = SiteData.drop(i)\n",
    "        RSNData = RSNData.drop(i)\n",
    "        if(i in drop_index_list):\n",
    "            drop_index_list.remove(i)\n",
    "\n",
    "    if(i in drop_index_list):\n",
    "        freqData = freqData.drop(i)\n",
    "        earthquakeData = earthquakeData.drop(i)\n",
    "        SiteData = SiteData.drop(i)\n",
    "        RSNData = RSNData.drop(i)\n",
    "\n",
    "\n",
    "\n",
    "\n",
    "\n",
    "\n"
   ]
  },
  {
   "cell_type": "code",
   "execution_count": null,
   "metadata": {},
   "outputs": [],
   "source": []
  },
  {
   "cell_type": "code",
   "execution_count": null,
   "metadata": {},
   "outputs": [],
   "source": [
    "# for i in freqData.columns:\n",
    "#     # plt.hist(freqData[i], bins=100)\n",
    "#     # plt.xlabel(i)\n",
    "#     # plt.ylabel('Frequency')\n",
    "#     # plt.title(i)\n",
    "#     # plt.show()\n",
    "#     plt.plot(freqData[i])\n",
    "#     plt.xlabel('Time')\n",
    "#     plt.ylabel('Frequency')\n",
    "#     plt.title(i)\n",
    "#     plt.show()\n",
    "\n"
   ]
  },
  {
   "cell_type": "code",
   "execution_count": null,
   "metadata": {},
   "outputs": [],
   "source": [
    "#for interstate data\n",
    "freqData=pd.concat([earthquakeData,freqData],axis=1)\n",
    "freqData=pd.concat([SiteData,freqData],axis=1)\n",
    "freqData=pd.concat([RSNData,freqData],axis=1)"
   ]
  },
  {
   "cell_type": "code",
   "execution_count": null,
   "metadata": {},
   "outputs": [],
   "source": [
    "freqData"
   ]
  },
  {
   "cell_type": "code",
   "execution_count": null,
   "metadata": {},
   "outputs": [],
   "source": [
    "#replacing the -999 value with NaN\n",
    "freqData=freqData.replace(-999,np.nan)\n",
    "#droping the rows containing NaN values\n",
    "freqData=freqData.dropna()"
   ]
  },
  {
   "cell_type": "code",
   "execution_count": null,
   "metadata": {},
   "outputs": [],
   "source": [
    "#printing the corelation matrix\n",
    "# freqData.corr()"
   ]
  },
  {
   "cell_type": "code",
   "execution_count": null,
   "metadata": {},
   "outputs": [],
   "source": [
    "# Plot the scatter plot with colors\n",
    "all_columns = list(freqData.columns)\n",
    "X_val = all_columns[:9]\n",
    "# Y_val = all_columns[6:157]\n",
    "Y_val = all_columns[9:]\n",
    "\n",
    "Xreq= freqData[X_val]\n",
    "Yreq = freqData[Y_val] # Yreq is the response variable\n",
    "\n",
    "\n",
    "# Split the data into training, validation, and test sets\n",
    "X_train, X_test, y_train, y_test = train_test_split(\n",
    "    Xreq, Yreq, test_size=0.2, random_state=42)\n",
    "\n",
    "# Extract the first column of X_test for  interstate distribution\n",
    "RSN= X_test.iloc[:, 0]\n",
    "Site_ID = X_test.iloc[:, 1]\n",
    "Earthquake_ID = X_test.iloc[:, 2]\n",
    "\n",
    "# Drop the first column from X_test and X_train\n",
    "X_test = X_test.iloc[:, 3:]\n",
    "X_train = X_train.iloc[:, 3:]\n",
    "\n",
    "# concatenating the data\n",
    "Xreq=pd.concat([X_train,X_test],axis=0)\n",
    "Yreq=pd.concat([y_train,y_test],axis=0)\n",
    "\n",
    "# Normalizing the data\n",
    "scalerX = StandardScaler()\n",
    "scalerY = StandardScaler()\n",
    "# scalerX = MinMaxScaler()\n",
    "# scalerY = MinMaxScaler()\n",
    "X_normalized = scalerX.fit_transform(Xreq)\n",
    "Y_normalized = scalerY.fit_transform(Yreq)\n",
    "\n",
    "\n",
    "# Getting the split data as before\n",
    "X_train = X_normalized[:len(X_train)]\n",
    "X_test = X_normalized[len(X_train):]\n",
    "y_train = Y_normalized[:len(y_train)]\n",
    "y_test = Y_normalized[len(y_train):]\n",
    "\n",
    "len(X_train), len(X_test), len(y_train), len(y_test)\n",
    "\n",
    "\n",
    "num_epochs = 2000"
   ]
  },
  {
   "cell_type": "code",
   "execution_count": null,
   "metadata": {},
   "outputs": [],
   "source": [
    "print(X_train.shape), print(y_train.shape) \n",
    "print(X_test.shape), print(y_test.shape)"
   ]
  },
  {
   "cell_type": "code",
   "execution_count": null,
   "metadata": {},
   "outputs": [],
   "source": [
    "\n",
    "import torch\n",
    "import torch.nn as nn\n",
    "import torch.optim as optim\n",
    "from torch.utils.data import DataLoader, TensorDataset\n",
    "import numpy as np\n",
    "import torch.nn.functional as F\n",
    "import matplotlib.pyplot as plt\n",
    "\n",
    "class BayesianNetwork(nn.Module):\n",
    "    def __init__(self, input_dim, hidden_dim, output_dim):\n",
    "        super(BayesianNetwork, self).__init__()\n",
    "        self.fc1 = nn.Linear(input_dim, hidden_dim)\n",
    "        self.fc2 = nn.Linear(hidden_dim, hidden_dim)\n",
    "        self.fc3 = nn.Linear(hidden_dim, output_dim)\n",
    "\n",
    "    def forward(self, x):\n",
    "        x = torch.relu(self.fc1(x))\n",
    "        x = torch.relu(self.fc2(x))\n",
    "        x = self.fc3(x)\n",
    "        return x\n",
    "\n",
    "class ProbabilisticBNN(nn.Module):\n",
    "    def __init__(self, input_dim, hidden_dim, output_dim, dropout_rate=0.5):\n",
    "        super(ProbabilisticBNN, self).__init__()\n",
    "        self.network = BayesianNetwork(input_dim, hidden_dim, output_dim)\n",
    "        self.dropout_rate = dropout_rate\n",
    "\n",
    "    def forward(self, x):\n",
    "        output = self.network(x)\n",
    "        return output\n",
    "\n",
    "    def mc_dropout_forward(self, x, n_samples=20):\n",
    "        predictions = []\n",
    "        for _ in range(n_samples):\n",
    "            with torch.no_grad():\n",
    "                output = F.dropout(self.network(x), p=self.dropout_rate, training=True)\n",
    "            predictions.append(output.unsqueeze(0))\n",
    "        predictions = torch.cat(predictions, dim=0)\n",
    "        mean_prediction = predictions.mean(dim=0)\n",
    "        std_prediction = predictions.std(dim=0)\n",
    "        return mean_prediction, std_prediction\n",
    "\n",
    "    def kl_divergence(self):\n",
    "        kl_div = 0\n",
    "        for module in self.modules():\n",
    "            if hasattr(module, 'kl_loss'):\n",
    "                kl_div += module.kl_loss()\n",
    "        return kl_div\n",
    "\n",
    "def train(model, train_loader, optimizer, criterion, epochs=100):\n",
    "    model.train()\n",
    "    mse_values = []\n",
    "    loss_values = []\n",
    "    for epoch in range(epochs):\n",
    "        total_loss = 0\n",
    "        total_mse = 0\n",
    "        for inputs, targets in train_loader:\n",
    "            optimizer.zero_grad()\n",
    "            outputs = model(inputs)\n",
    "            loss = criterion(outputs, targets) + model.kl_divergence()  # Add KL divergence to the loss\n",
    "            mse = criterion(outputs, targets).item()\n",
    "            loss.backward()\n",
    "            optimizer.step()\n",
    "            total_loss += loss.item()\n",
    "            total_mse += mse\n",
    "        avg_loss = total_loss / len(train_loader)\n",
    "        avg_mse = total_mse / len(train_loader)\n",
    "        loss_values.append(avg_loss)\n",
    "        mse_values.append(avg_mse)\n",
    "        print(f'Epoch {epoch+1}, Loss: {avg_loss}, MSE: {avg_mse}')\n",
    "    \n",
    "    # Plotting\n",
    "    plt.figure(figsize=(10, 5))\n",
    "    plt.plot(range(1, epochs + 1), loss_values, label='Total Loss')\n",
    "    plt.plot(range(1, epochs + 1), mse_values, label='MSE')\n",
    "    plt.xlabel('Epoch')\n",
    "    plt.ylabel('Value')\n",
    "    plt.title('Variation of Loss and MSE with Epoch')\n",
    "    plt.legend()\n",
    "    plt.grid(True)\n",
    "    plt.savefig(f'{root_folder}Program/Week8/PBNN/Figures/Time/loss_mse_epoch{num_epochs}.png')\n",
    "    plt.show()\n",
    "\n",
    "def test(model, test_loader):\n",
    "    model.eval()\n",
    "    predictions = []\n",
    "    actuals = []\n",
    "    with torch.no_grad():\n",
    "        for inputs, targets in test_loader:\n",
    "            outputs = model(inputs)\n",
    "            predictions.extend(outputs.numpy())\n",
    "            actuals.extend(targets.numpy())\n",
    "    \n",
    "    predictions = np.array(predictions)\n",
    "    actuals = np.array(actuals)\n",
    "    return predictions, actuals\n",
    "\n",
    "# Example usage:\n",
    "# Assuming you have input data X_train, y_train, X_test, and y_test\n",
    "\n",
    "# Convert your data into PyTorch tensors\n",
    "X_train = torch.tensor(X_train, dtype=torch.float32)\n",
    "y_train = torch.tensor(y_train, dtype=torch.float32)\n",
    "X_test = torch.tensor(X_test, dtype=torch.float32)\n",
    "y_test = torch.tensor(y_test, dtype=torch.float32)\n",
    "\n",
    "# Create DataLoader for training\n",
    "train_data = TensorDataset(X_train, y_train)\n",
    "train_loader = DataLoader(train_data, batch_size=32, shuffle=True)\n",
    "\n",
    "\n",
    "# Define model, optimizer, and loss function\n",
    "input_dim = X_train.shape[1]\n",
    "output_dim = y_train.shape[1]  # Assuming regression task with single output\n",
    "hidden_dim = 50\n",
    "learning_rate = 0.001\n",
    "dropout_rate = 0.5  # Dropout rate for MC Dropout\n",
    "model = ProbabilisticBNN(input_dim, hidden_dim, output_dim, dropout_rate)\n",
    "optimizer = optim.Adam(model.parameters(), lr=learning_rate)\n",
    "criterion = nn.MSELoss()\n",
    "# Train the model\n",
    "train(model, train_loader, optimizer, criterion, epochs=num_epochs)\n"
   ]
  },
  {
   "cell_type": "code",
   "execution_count": null,
   "metadata": {},
   "outputs": [],
   "source": [
    "torch.save(model.state_dict(), root_folder+f'Program/Week8/PBNN/model_for_TimeEnv_{num_epochs}epoch.pth')\n"
   ]
  },
  {
   "cell_type": "code",
   "execution_count": null,
   "metadata": {},
   "outputs": [],
   "source": [
    "# # Check if the file exists\n",
    "# import os\n",
    "\n",
    "\n",
    "# file_path = root_folder+f'Program/Week8/BNNresult/model_for_freqEnv_{num_epochs}epoch.pth'\n",
    "# if os.path.isfile(file_path):\n",
    "#     model = torch.load(file_path)\n",
    "# else:\n",
    "#     print(f\"File {file_path} does not exist. Please check the file path.\")\n",
    "# model=torch.load(file_path)"
   ]
  },
  {
   "cell_type": "code",
   "execution_count": null,
   "metadata": {},
   "outputs": [],
   "source": [
    "#creating datalaoder for test data\n",
    "test_data = TensorDataset(X_test, y_test)\n",
    "test_loader = DataLoader(test_data, batch_size=32)\n",
    "# # Test the model\n",
    "predictions, actuals = test(model, test_loader)"
   ]
  },
  {
   "cell_type": "code",
   "execution_count": null,
   "metadata": {},
   "outputs": [],
   "source": [
    "#converting the normalized data back to original data\n",
    "predictions = scalerY.inverse_transform(predictions)\n",
    "actuals = scalerY.inverse_transform(actuals)\n"
   ]
  },
  {
   "cell_type": "code",
   "execution_count": null,
   "metadata": {},
   "outputs": [],
   "source": [
    "plt.figure(figsize=(20, 10))\n",
    "\n",
    "# Loop over all subarrays\n",
    "for i in range(actuals.shape[1]):\n",
    "    plt.scatter(actuals[:,i], predictions[:,i], alpha=0.5)\n",
    "plt.xlabel('Actual Values')\n",
    "plt.ylabel('Predicted Values')\n",
    "plt.title('Scatter Plot of Actual vs Predicted Values')\n",
    "# plt.xlim(65500, 65600)\n",
    "plt.grid(True)\n",
    "plt.savefig(f'{root_folder}Program/Week8/PBNN/Figures/Time/scatter_plot_{num_epochs}epoch.png')\n",
    "plt.show()"
   ]
  },
  {
   "cell_type": "code",
   "execution_count": null,
   "metadata": {},
   "outputs": [],
   "source": [
    "\n",
    "from sklearn.metrics import mean_squared_error, r2_score\n",
    "\n",
    "\n",
    "# Calculate MSE and R2 score\n",
    "mse = mean_squared_error(actuals, predictions)\n",
    "r2 = r2_score(actuals, predictions)\n",
    "print(f'Mean Squared Error: {mse}')\n",
    "print(f'R2 Score: {r2}')\n",
    "\n",
    "# Calculation of confidence intervals\n",
    "mean_predictions, std_predictions = model.mc_dropout_forward(X_test)\n",
    "confidence_intervals = (mean_predictions - 2 * std_predictions, mean_predictions + 2 * std_predictions)\n"
   ]
  },
  {
   "cell_type": "markdown",
   "metadata": {},
   "source": [
    "Mean Squared Error: 4.740969181060791\n",
    "R2 Score: 0.8213859476381149\n"
   ]
  },
  {
   "cell_type": "code",
   "execution_count": null,
   "metadata": {},
   "outputs": [],
   "source": [
    "# Plotting the confidence intervals\n",
    "plt.figure(figsize=(10, 6))\n",
    "plt.scatter(actuals[:, 0], mean_predictions[:, 0], label='Prediction', color='blue')\n",
    "plt.fill_between(actuals[:, 1], confidence_intervals[0][:, 1], confidence_intervals[1][:, 1], alpha=0.3, label='Confidence Interval', color='orange')\n",
    "plt.xlabel('Actual Values')\n",
    "plt.ylabel('Prediction')\n",
    "plt.title('Prediction with Confidence Interval')\n",
    "plt.legend()\n",
    "plt.grid(True)\n",
    "plt.show()"
   ]
  },
  {
   "cell_type": "code",
   "execution_count": null,
   "metadata": {},
   "outputs": [],
   "source": [
    "#converting the actuals and predictions to dataframe    \n",
    "actualsdf=pd.DataFrame(actuals,columns=Y_val)\n",
    "predictionsdf=pd.DataFrame(predictions,columns=Y_val)\n"
   ]
  },
  {
   "cell_type": "code",
   "execution_count": null,
   "metadata": {},
   "outputs": [],
   "source": [
    "\n",
    "# Convert the tensors to numpy arrays\n",
    "y_test = y_test.numpy()\n",
    "mean_predictions = mean_predictions.numpy()\n",
    "lower_confidence_intervals = confidence_intervals[0].numpy()\n",
    "upper_confidence_intervals = confidence_intervals[1].numpy()\n",
    "std_predictions = std_predictions.numpy()"
   ]
  },
  {
   "cell_type": "code",
   "execution_count": null,
   "metadata": {},
   "outputs": [],
   "source": [
    "#using the normalized means and stds to make a dataframe for epistemic and aleatoric uncertainty calculation\n",
    "mean_predictions_df = pd.DataFrame(mean_predictions, columns=Y_val)\n",
    "std_predictions_df = pd.DataFrame(std_predictions, columns=Y_val)"
   ]
  },
  {
   "cell_type": "code",
   "execution_count": null,
   "metadata": {},
   "outputs": [],
   "source": [
    "#converting to actual values\n",
    "y_test = scalerY.inverse_transform(y_test)\n",
    "mean_predictions = scalerY.inverse_transform(mean_predictions)\n",
    "lower_confidence_intervals = scalerY.inverse_transform(lower_confidence_intervals)\n",
    "upper_confidence_intervals = scalerY.inverse_transform(upper_confidence_intervals)\n",
    "\n",
    "\n",
    "Ytestdf= pd.DataFrame(y_test, columns=Y_val)\n",
    "Ypreddf= pd.DataFrame(mean_predictions, columns=Y_val)\n",
    "Ylowerdf= pd.DataFrame(lower_confidence_intervals, columns=Y_val)\n",
    "Yupperdf= pd.DataFrame(upper_confidence_intervals, columns=Y_val)"
   ]
  },
  {
   "attachments": {
    "image.png": {
     "image/png": "[encoded data removed]"
    }
   },
   "cell_type": "markdown",
   "metadata": {},
   "source": [
    "![image_epoch1000.png](attachment:image.png)"
   ]
  },
  {
   "cell_type": "code",
   "execution_count": null,
   "metadata": {},
   "outputs": [],
   "source": [
    "var_aleatory = std_predictions_df.pow(2).mean()\n",
    "var_epistemic = mean_predictions_df.var()\n",
    "UncertainityStats = pd.DataFrame({'Aleatory Uncertainty': var_aleatory, 'Epistemic Uncertainty': var_epistemic})\n",
    "UncertainityStats.to_csv(f\"{root_folder}Program/Week8/PBNN/UncertainityStat/Time/UncertainityStats_epochs{num_epochs}.csv\", index=False)\n",
    "UncertainityStats"
   ]
  },
  {
   "cell_type": "code",
   "execution_count": null,
   "metadata": {},
   "outputs": [],
   "source": [
    "# Adjust the time array to match the length of the 'Aleatory Uncertainty' series\n",
    "time = np.arange(0, len(UncertainityStats['Aleatory Uncertainty']), 1)\n",
    "\n",
    "plt.figure(figsize=(10, 5))\n",
    "plt.plot(time, UncertainityStats['Aleatory Uncertainty'], label='Aleatory Uncertainty', color='red')\n",
    "plt.xlabel('Time')\n",
    "plt.ylabel('Aleatory Uncertainty')\n",
    "plt.title('Variation of Aleatory Uncertainty with Time')\n",
    "plt.legend()\n",
    "plt.grid(True)\n",
    "plt.show()\n",
    "plt.savefig(f\"{root_folder}Program/Week8/PBNN/Figures/Time/AleatoryUncertainty_epoch{num_epochs}.png\")\n",
    "\n",
    "\n",
    "plt.figure(figsize=(10,5))\n",
    "plt.plot(time, UncertainityStats['Epistemic Uncertainty'], label='Epistemic Uncertainty', color='blue')\n",
    "plt.xlabel('Time')\n",
    "plt.ylabel('Epistemic Uncertainty')\n",
    "plt.title('Variation of Epistemic Uncertainty with Time')\n",
    "plt.legend()\n",
    "plt.grid(True)\n",
    "plt.show()\n",
    "plt.savefig(f\"{root_folder}Program/Week8/PBNN/Figures/Time/EpistemicUncertainty_epoch{num_epochs}.png\")"
   ]
  },
  {
   "cell_type": "code",
   "execution_count": null,
   "metadata": {},
   "outputs": [],
   "source": [
    "#plotting the reSite_IDual plot\n",
    "Residuals = actuals - predictions\n",
    "plt.figure(figsize=(8, 6))\n",
    "plt.scatter(predictions, Residuals, alpha=0.5)\n",
    "plt.xlabel('Predictions')\n",
    "plt.ylabel('Residuals')\n",
    "plt.title('Residuals Plot')\n",
    "# plt.savefig(f\"{root_folder}Program/Week8/PBNN/Figures/reSite_IDual_epoch{num_epochs}.png\")\n",
    "plt.grid(True)\n",
    "plt.show()\n"
   ]
  },
  {
   "cell_type": "code",
   "execution_count": null,
   "metadata": {},
   "outputs": [],
   "source": [
    "X_test=scalerX.inverse_transform(X_test)\n",
    "#Adding the Catagory_ID col to the to X_test\n",
    "X_test=np.insert(X_test,0,Site_ID,axis=1)\n",
    "X_test=np.insert(X_test,0,Earthquake_ID,axis=1)\n",
    "X_test=np.insert(X_test,0,RSN,axis=1)\n",
    "Residualsdf=pd.DataFrame(Residuals,columns=Y_val)\n",
    "x_testdf=pd.DataFrame(X_test,columns=X_val)\n",
    "TotalResidualsDf= pd.concat([x_testdf,Residualsdf],join='inner',axis=\"columns\")\n",
    "TotalResidualsDf\n"
   ]
  },
  {
   "cell_type": "code",
   "execution_count": null,
   "metadata": {},
   "outputs": [],
   "source": [
    "#concatenating the actuals and predictions to the X_test\n",
    "actualsdf=pd.concat([x_testdf,actualsdf],join='inner',axis=\"columns\")\n",
    "predictionsdf=pd.concat([x_testdf,predictionsdf],join='inner',axis=\"columns\")\n",
    "\n",
    "# saving the actuals and predictions to the csv file\n",
    "actualsdf.to_csv(f\"{root_folder}Program/Week8/PBNN/TestData/Time/Actuals_epoch{num_epochs}.csv\", index=False)\n",
    "predictionsdf.to_csv(f\"{root_folder}Program/Week8/PBNN/TestData/Time/Predictions_epoch{num_epochs}.csv\", index=False)"
   ]
  },
  {
   "cell_type": "code",
   "execution_count": null,
   "metadata": {},
   "outputs": [],
   "source": [
    "#taking 10 equal intervals between the minimum and maximum value of the x_test and finding the mean and standard deviation of the reSite_IDuals in each interval and plotting it\n",
    "colno=4\n",
    "x_test = x_testdf[X_val[colno]]\n",
    "num_intervals = 10\n",
    "interval_size = (x_test.max() - x_test.min()) / num_intervals\n",
    "interval_means = []\n",
    "interval_stds = []\n",
    "for i in range(num_intervals):\n",
    "    lower_bound = x_test.min() + i * interval_size\n",
    "    upper_bound = lower_bound + interval_size\n",
    "    mask = (TotalResidualsDf[X_val[colno]] >= lower_bound) & (TotalResidualsDf[X_val[colno]] <= upper_bound)\n",
    "    interval_means.append(list(TotalResidualsDf.loc[mask].mean()))\n",
    "    interval_stds.append(list(TotalResidualsDf.loc[mask].std()))\n"
   ]
  },
  {
   "cell_type": "code",
   "execution_count": null,
   "metadata": {},
   "outputs": [],
   "source": [
    "interval_meansdf=pd.DataFrame(interval_means,columns=X_val+Y_val)\n",
    "interval_stdsdf=pd.DataFrame(interval_stds,columns=X_val+Y_val)\n",
    "interval_meansdf"
   ]
  },
  {
   "cell_type": "code",
   "execution_count": null,
   "metadata": {},
   "outputs": [],
   "source": [
    "# plotting reSite_IDual vs Rjb\n",
    "for i in range(len(Y_val)):\n",
    "    plt.figure(figsize=(8, 6))\n",
    "    plt.scatter(x_testdf[X_val[colno]], TotalResidualsDf[Y_val[i]], alpha=0.5, color='blue', label='Residuals')\n",
    "    plt.errorbar(np.arange(num_intervals) * interval_size + x_test.min(), interval_meansdf[f\"{Y_val[i]}\"], yerr=interval_stdsdf[f\"{Y_val[i]}\"], fmt='o', capsize=5, label='Mean Residual',color='red')\n",
    "    plt.xlabel('Rjb Values')\n",
    "    plt.ylabel('Residuals')\n",
    "    plt.title(f'Residuals Plot for {Y_val[i]}')\n",
    "    plt.grid(True)\n",
    "    plt.legend()\n",
    "    plt.savefig(f\"{root_folder}Program/Week8/PBNN/Figures/Time/Residuals_{Y_val[i]}_epoch{num_epochs}.png\")\n",
    "    plt.show()"
   ]
  },
  {
   "cell_type": "code",
   "execution_count": null,
   "metadata": {},
   "outputs": [],
   "source": [
    "#getting all the unique values of the Earthquake_ID\n",
    "interval_means_interevents = []\n",
    "interval_stds_interevents = []\n",
    "unique_values =Earthquake_ID.unique()\n",
    "for i in range( unique_values.size):\n",
    "    mask = (Earthquake_ID == unique_values[i]).reset_index(drop=True)\n",
    "    interval_means_interevents.append(list(TotalResidualsDf.loc[mask].mean()))\n",
    "    interval_stds_interevents.append(list(TotalResidualsDf.loc[mask].std()))\n",
    "interval_means_intereventsdf=pd.DataFrame(interval_means_interevents,columns=X_val+Y_val)\n",
    "interval_stds_intereventsdf=pd.DataFrame(interval_stds_interevents,columns=X_val+Y_val)   \n",
    "interval_means_intereventsdf\n"
   ]
  },
  {
   "cell_type": "code",
   "execution_count": null,
   "metadata": {},
   "outputs": [],
   "source": [
    "#getting all the unique values of the Site_ID\n",
    "interval_means_intraevents = []\n",
    "interval_stds_intraevents = []\n",
    "unique_values =Site_ID.unique()\n",
    "for i in range( unique_values.size):\n",
    "    mask = (Site_ID == unique_values[i]).reset_index(drop=True)\n",
    "    interval_means_intraevents.append(list(TotalResidualsDf.loc[mask].mean()))\n",
    "    interval_stds_intraevents.append(list(TotalResidualsDf.loc[mask].std()))\n",
    "interval_means_intraeventsdf=pd.DataFrame(interval_means_intraevents,columns=X_val+Y_val)\n",
    "interval_stds_intraeventsdf=pd.DataFrame(interval_stds_intraevents,columns=X_val+Y_val)  \n",
    "# interval_means_intraeventsdf[\"FreI_  7\"]"
   ]
  },
  {
   "cell_type": "code",
   "execution_count": null,
   "metadata": {},
   "outputs": [],
   "source": [
    "# the error bar plot for the Residuals for each magnitude\n",
    "for i in range(len(Y_val)):\n",
    "    fig,(ax1,ax2)=plt.subplots(1,2,figsize=(25, 8))\n",
    "    ax1.errorbar(interval_means_intereventsdf[\"Mag\"], interval_means_intereventsdf[Y_val[i]], fmt='o', capsize=5, label='Mean Residual',color='red')\n",
    "    ax1.set_xlabel('Magnitude Values')\n",
    "    ax1.set_ylabel('Residuals')\n",
    "    ax1.set_title(f'Residual Plot for {Y_val[i]}')\n",
    "    ax1.grid(True)\n",
    "    ax2.errorbar(interval_means_intraeventsdf[\"Rjb\"], interval_means_intraeventsdf[Y_val[i]], fmt='o', capsize=5, label='Mean Residual',color='red')\n",
    "    ax2.set_xlabel('Rjb Values')\n",
    "    ax2.set_ylabel('Residuals')\n",
    "    ax2.set_title(f'Residual Plot for {Y_val[i]}')\n",
    "    ax2.grid(True)\n",
    "    plt.savefig(f\"{root_folder}Program/Week8/PBNN/Figures/Time/Inter_Inter_{Y_val[i]}_epoch{num_epochs}.png\")\n",
    "    plt.legend()\n",
    "    plt.show()\n"
   ]
  },
  {
   "cell_type": "code",
   "execution_count": null,
   "metadata": {},
   "outputs": [],
   "source": [
    "\n"
   ]
  }
 ],
 "metadata": {
  "kernelspec": {
   "display_name": "Python 3",
   "language": "python",
   "name": "python3"
  },
  "language_info": {
   "codemirror_mode": {
    "name": "ipython",
    "version": 3
   },
   "file_extension": ".py",
   "mimetype": "text/x-python",
   "name": "python",
   "nbconvert_exporter": "python",
   "pygments_lexer": "ipython3",
   "version": "3.11.4"
  }
 },
 "nbformat": 4,
 "nbformat_minor": 2
}
